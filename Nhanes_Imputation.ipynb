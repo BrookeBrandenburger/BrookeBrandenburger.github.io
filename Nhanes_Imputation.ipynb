{
 "cells": [
  {
   "cell_type": "code",
   "execution_count": 2,
   "metadata": {},
   "outputs": [
    {
     "name": "stdout",
     "output_type": "stream",
     "text": [
      "['SurveyYr', 'ID', 'Gender', 'Age', 'AgeDecade', 'AgeMonths', 'Race1', 'Race3', 'Education', 'MaritalStatus', 'HHIncome', 'HHIncomeMid', 'Poverty', 'HomeRooms', 'HomeOwn', 'Work', 'Weight', 'Length', 'HeadCirc', 'Height', 'BMI', 'BMICatUnder20yrs', 'BMI_WHO', 'Pulse', 'BPSysAve', 'BPDiaAve', 'BPSys1', 'BPDia1', 'BPSys2', 'BPDia2', 'BPSys3', 'BPDia3', 'Testosterone', 'DirectChol', 'TotChol', 'UrineVol1', 'UrineFlow1', 'UrineVol2', 'UrineFlow2', 'Diabetes', 'DiabetesAge', 'HealthGen', 'DaysPhysHlthBad', 'DaysMentHlthBad', 'LittleInterest', 'Depressed', 'nPregnancies', 'nBabies', 'Age1stBaby', 'SleepHrsNight', 'SleepTrouble', 'PhysActive', 'PhysActiveDays', 'TVHrsDay', 'CompHrsDay', 'TVHrsDayChild', 'CompHrsDayChild', 'Alcohol12PlusYr', 'AlcoholDay', 'AlcoholYear', 'SmokeNow', 'Smoke100', 'Smoke100n', 'SmokeAge', 'Marijuana', 'AgeFirstMarij', 'RegularMarij', 'AgeRegMarij', 'HardDrugs', 'SexEver', 'SexAge', 'SexNumPartnLife', 'SexNumPartYear', 'SameSex', 'SexOrientation']\n",
      "10000\n"
     ]
    }
   ],
   "source": [
    "#[Load and Process the Dataset: NHANES-10000]\n",
    "import numpy as np\n",
    "import gzip\n",
    "with gzip.GzipFile('NHANES.csv.gz','rb') as f:\n",
    "    #gp from raw data into filtered and clean data--------------------------------------------------\n",
    "    raw = [row.decode('utf-8').replace('\\n','').replace('\\r','').split(',') for row in f.readlines()]\n",
    "    header,data,D = raw[0],raw[1:],[]\n",
    "print(header)\n",
    "print(len(data))"
   ]
  },
  {
   "cell_type": "code",
   "execution_count": 3,
   "metadata": {},
   "outputs": [],
   "source": [
    "import numpy as np\n",
    "def float_and_nan(x):\n",
    "    if x=='NA': return np.nan\n",
    "    else:       return float(x)"
   ]
  },
  {
   "cell_type": "code",
   "execution_count": 4,
   "metadata": {},
   "outputs": [
    {
     "name": "stdout",
     "output_type": "stream",
     "text": [
      "{'8thGrade': 0, '9_11thGrade': 1, 'CollegeGrad': 2, 'HighSchool': 3, 'NA': nan, 'SomeCollege': 5}\n",
      "12\n"
     ]
    },
    {
     "data": {
      "text/plain": [
       "2"
      ]
     },
     "execution_count": 4,
     "metadata": {},
     "output_type": "execute_result"
    }
   ],
   "source": [
    "idx = {header[i]:i for i in range(len(header))}\n",
    "\n",
    "ed  = sorted(set([row[idx['Education']] for row in data]))\n",
    "edu = {ed[i]:i for i in range(len(ed))} #{}\n",
    "edu['NA'] = np.nan\n",
    "\n",
    "hd  = sorted(set([row[idx['HardDrugs']] for row in data]))\n",
    "hdu = {hd[i]:i for i in range(len(hd))}\n",
    "hdu['NA'] = np.nan\n",
    "\n",
    "print(edu)\n",
    "print(idx['Poverty'])\n",
    "hdu[data[0][idx['HardDrugs']]]"
   ]
  },
  {
   "cell_type": "code",
   "execution_count": 5,
   "metadata": {},
   "outputs": [
    {
     "data": {
      "text/plain": [
       "array([[2.  , 5.  , 2.  ],\n",
       "       [ nan, 4.17,  nan],\n",
       "       [0.  , 1.58,  nan],\n",
       "       ...,\n",
       "       [5.  , 4.97, 1.  ],\n",
       "       [5.  , 1.67, 2.  ],\n",
       "       [2.  , 4.59,  nan]])"
      ]
     },
     "execution_count": 5,
     "metadata": {},
     "output_type": "execute_result"
    }
   ],
   "source": [
    "D = []\n",
    "for row in data: #only work with data rows that have all the data: no missing values\n",
    "    D += [[ edu[row[idx['Education']]],float_and_nan(row[idx['Poverty']]),hdu[row[idx['HardDrugs']]]]]\n",
    "D[0:20]\n",
    "D = np.asarray(D,dtype=float)\n",
    "D"
   ]
  },
  {
   "cell_type": "code",
   "execution_count": 6,
   "metadata": {},
   "outputs": [],
   "source": [
    "from sklearn.experimental import enable_iterative_imputer\n",
    "from sklearn.impute import IterativeImputer"
   ]
  },
  {
   "cell_type": "code",
   "execution_count": 7,
   "metadata": {},
   "outputs": [
    {
     "data": {
      "text/plain": [
       "array([[2.  , 5.  , 2.  ],\n",
       "       [3.  , 4.17, 1.  ],\n",
       "       [0.  , 1.58, 1.  ],\n",
       "       [3.  , 1.85, 2.  ],\n",
       "       [3.  , 1.45, 1.  ],\n",
       "       [0.  , 0.9 , 1.  ],\n",
       "       [3.  , 3.49, 1.  ],\n",
       "       [5.  , 0.76, 1.  ],\n",
       "       [2.  , 5.  , 1.  ],\n",
       "       [0.  , 1.74, 1.  ]])"
      ]
     },
     "execution_count": 7,
     "metadata": {},
     "output_type": "execute_result"
    }
   ],
   "source": [
    "imp = IterativeImputer(max_iter=10,random_state=0) #this MICE\n",
    "imp.fit(D)\n",
    "X = imp.transform(D)\n",
    "X[:,0] = np.round(X[:,0],0)\n",
    "X[:,2] = np.round(X[:,2],0)\n",
    "X[:10]"
   ]
  },
  {
   "cell_type": "code",
   "execution_count": 8,
   "metadata": {},
   "outputs": [
    {
     "data": {
      "text/plain": [
       "[['CollegeGrad', 0, 5.0, 0, 'Yes', 0],\n",
       " ['HighSchool', 1, 4.17, 0, 'No', 1],\n",
       " ['8thGrade', 0, 1.58, 0, 'No', 1],\n",
       " ['HighSchool', 0, 1.85, 0, 'Yes', 0],\n",
       " ['HighSchool', 1, 1.45, 0, 'No', 1],\n",
       " ['8thGrade', 0, 0.9, 0, 'No', 0],\n",
       " ['HighSchool', 1, 3.49, 0, 'No', 0],\n",
       " ['SomeCollege', 0, 0.76, 0, 'No', 0],\n",
       " ['CollegeGrad', 0, 5.0, 0, 'No', 1],\n",
       " ['8thGrade', 0, 1.74, 0, 'No', 0]]"
      ]
     },
     "execution_count": 8,
     "metadata": {},
     "output_type": "execute_result"
    }
   ],
   "source": [
    "# now map back values\n",
    "udh = {hdu[h]:h for h in hdu}\n",
    "ude = {edu[e]:e for e in edu}\n",
    "\n",
    "M = [[ude[X[i][0]],(1 if X[i][0]!=D[i][0] else 0), X[i][1], (1 if X[i][1]!=D[i][1] else 0), udh[X[i][2]], (1 if X[i][2]!=D[i][2] else 0)] for i in range(len(X))]\n",
    "M[0:10]"
   ]
  },
  {
   "cell_type": "code",
   "execution_count": 13,
   "metadata": {},
   "outputs": [],
   "source": [
    "#pack it up as a new\n",
    "s = ','.join(['Education','Education_imp','Poverty','Poverty_imp','HardDrugs','HardDrugs_imp'])+'\\n'\n",
    "s += '\\n'.join([','.join([str(x) for x in row]) for row in M])+'\\n'\n",
    "with open('nhanes.imp.csv','w') as f: f.write(s)"
   ]
  },
  {
   "cell_type": "code",
   "execution_count": null,
   "metadata": {},
   "outputs": [],
   "source": []
  }
 ],
 "metadata": {
  "kernelspec": {
   "display_name": "Python 3 (ipykernel)",
   "language": "python",
   "name": "python3"
  },
  "language_info": {
   "codemirror_mode": {
    "name": "ipython",
    "version": 3
   },
   "file_extension": ".py",
   "mimetype": "text/x-python",
   "name": "python",
   "nbconvert_exporter": "python",
   "pygments_lexer": "ipython3",
   "version": "3.11.7"
  }
 },
 "nbformat": 4,
 "nbformat_minor": 4
}
